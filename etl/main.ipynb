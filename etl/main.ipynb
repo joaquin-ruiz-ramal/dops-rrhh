{
 "cells": [
  {
   "cell_type": "code",
   "execution_count": 65,
   "id": "8a50a18b",
   "metadata": {},
   "outputs": [],
   "source": [
    "import pandas as pd\n",
    "import sqlalchemy\n",
    "import urllib.parse\n",
    "import os\n",
    "from datetime import datetime\n"
   ]
  },
  {
   "cell_type": "code",
   "execution_count": 66,
   "id": "eb724e02",
   "metadata": {},
   "outputs": [],
   "source": [
    "\n",
    "fecha_actual = datetime.now().strftime(\"%Y%m%d_%H%M%S\")  # formato: 20250629_145210\n"
   ]
  },
  {
   "cell_type": "code",
   "execution_count": 67,
   "id": "2235abb2",
   "metadata": {},
   "outputs": [],
   "source": [
    "# Configuración de conexión\n",
    "db_user = \"usr_ro_dmc_rrhh_estudiantes\"\n",
    "db_pass = urllib.parse.quote_plus(\"fZp!jHt0j6%89^B4I*L*29bz4b^\")\n",
    "db_host = \"mgg.vps.webdock.cloud\"\n",
    "db_port = \"5432\"\n",
    "db_name = \"dmc\"\n",
    "schema = \"rrhh\"\n",
    "table = \"empleado\""
   ]
  },
  {
   "cell_type": "code",
   "execution_count": 68,
   "id": "a939cc4e",
   "metadata": {},
   "outputs": [],
   "source": [
    "# String de conexión\n",
    "engine = sqlalchemy.create_engine(\n",
    "    f\"postgresql+psycopg2://{db_user}:{db_pass}@{db_host}:{db_port}/{db_name}\"\n",
    ")"
   ]
  },
  {
   "cell_type": "code",
   "execution_count": 69,
   "id": "391ea7a3",
   "metadata": {},
   "outputs": [],
   "source": [
    "# Consulta de prueba\n",
    "query = f\"SELECT * FROM {schema}.{table}\""
   ]
  },
  {
   "cell_type": "code",
   "execution_count": null,
   "id": "d140ee4a",
   "metadata": {},
   "outputs": [
    {
     "name": "stdout",
     "output_type": "stream",
     "text": [
      "   empleado_id tip_documento num_documento nom_empleado ape_empleado  \\\n",
      "0            1           DNI      78901234          Ana        Pérez   \n",
      "1            2            CE      AB123456       Carlos        López   \n",
      "2            3     Pasaporte        XYZ789        Sofía     Martínez   \n",
      "3            4           DNI      12345678       Daniel        Gómez   \n",
      "4            5            CE      CD987654        Elena    Rodríguez   \n",
      "\n",
      "  cod_cargo cod_departamento  mnt_salario  mnt_tope_comision  \n",
      "0    CAR004           DEP004      1800.00                NaN  \n",
      "1    CAR002           DEP002      2500.50              300.0  \n",
      "2    CAR003           DEP003      2200.75                NaN  \n",
      "3    CAR001           DEP001      4000.00              500.0  \n",
      "4    CAR005           DEP005      2000.20                NaN  \n"
     ]
    }
   ],
   "source": [
    "# Ejecutar consulta\n",
    "try:\n",
    "    df = pd.read_sql_query(query, engine)\n",
    "    print(df.head())\n",
    "except Exception as e:\n",
    "    print(\"Error al conectar o consultar:\", e)\n"
   ]
  },
  {
   "cell_type": "code",
   "execution_count": 71,
   "id": "eb5f802e",
   "metadata": {},
   "outputs": [
    {
     "data": {
      "text/html": [
       "<div>\n",
       "<style scoped>\n",
       "    .dataframe tbody tr th:only-of-type {\n",
       "        vertical-align: middle;\n",
       "    }\n",
       "\n",
       "    .dataframe tbody tr th {\n",
       "        vertical-align: top;\n",
       "    }\n",
       "\n",
       "    .dataframe thead th {\n",
       "        text-align: right;\n",
       "    }\n",
       "</style>\n",
       "<table border=\"1\" class=\"dataframe\">\n",
       "  <thead>\n",
       "    <tr style=\"text-align: right;\">\n",
       "      <th></th>\n",
       "      <th>empleado_id</th>\n",
       "      <th>tip_documento</th>\n",
       "      <th>num_documento</th>\n",
       "      <th>nom_empleado</th>\n",
       "      <th>ape_empleado</th>\n",
       "      <th>cod_cargo</th>\n",
       "      <th>cod_departamento</th>\n",
       "      <th>mnt_salario</th>\n",
       "      <th>mnt_tope_comision</th>\n",
       "    </tr>\n",
       "  </thead>\n",
       "  <tbody>\n",
       "    <tr>\n",
       "      <th>0</th>\n",
       "      <td>1</td>\n",
       "      <td>DNI</td>\n",
       "      <td>78901234</td>\n",
       "      <td>Ana</td>\n",
       "      <td>Pérez</td>\n",
       "      <td>CAR004</td>\n",
       "      <td>DEP004</td>\n",
       "      <td>1800.00</td>\n",
       "      <td>NaN</td>\n",
       "    </tr>\n",
       "    <tr>\n",
       "      <th>1</th>\n",
       "      <td>2</td>\n",
       "      <td>CE</td>\n",
       "      <td>AB123456</td>\n",
       "      <td>Carlos</td>\n",
       "      <td>López</td>\n",
       "      <td>CAR002</td>\n",
       "      <td>DEP002</td>\n",
       "      <td>2500.50</td>\n",
       "      <td>300.0</td>\n",
       "    </tr>\n",
       "    <tr>\n",
       "      <th>2</th>\n",
       "      <td>3</td>\n",
       "      <td>Pasaporte</td>\n",
       "      <td>XYZ789</td>\n",
       "      <td>Sofía</td>\n",
       "      <td>Martínez</td>\n",
       "      <td>CAR003</td>\n",
       "      <td>DEP003</td>\n",
       "      <td>2200.75</td>\n",
       "      <td>NaN</td>\n",
       "    </tr>\n",
       "    <tr>\n",
       "      <th>3</th>\n",
       "      <td>4</td>\n",
       "      <td>DNI</td>\n",
       "      <td>12345678</td>\n",
       "      <td>Daniel</td>\n",
       "      <td>Gómez</td>\n",
       "      <td>CAR001</td>\n",
       "      <td>DEP001</td>\n",
       "      <td>4000.00</td>\n",
       "      <td>500.0</td>\n",
       "    </tr>\n",
       "    <tr>\n",
       "      <th>4</th>\n",
       "      <td>5</td>\n",
       "      <td>CE</td>\n",
       "      <td>CD987654</td>\n",
       "      <td>Elena</td>\n",
       "      <td>Rodríguez</td>\n",
       "      <td>CAR005</td>\n",
       "      <td>DEP005</td>\n",
       "      <td>2000.20</td>\n",
       "      <td>NaN</td>\n",
       "    </tr>\n",
       "  </tbody>\n",
       "</table>\n",
       "</div>"
      ],
      "text/plain": [
       "   empleado_id tip_documento num_documento nom_empleado ape_empleado  \\\n",
       "0            1           DNI      78901234          Ana        Pérez   \n",
       "1            2            CE      AB123456       Carlos        López   \n",
       "2            3     Pasaporte        XYZ789        Sofía     Martínez   \n",
       "3            4           DNI      12345678       Daniel        Gómez   \n",
       "4            5            CE      CD987654        Elena    Rodríguez   \n",
       "\n",
       "  cod_cargo cod_departamento  mnt_salario  mnt_tope_comision  \n",
       "0    CAR004           DEP004      1800.00                NaN  \n",
       "1    CAR002           DEP002      2500.50              300.0  \n",
       "2    CAR003           DEP003      2200.75                NaN  \n",
       "3    CAR001           DEP001      4000.00              500.0  \n",
       "4    CAR005           DEP005      2000.20                NaN  "
      ]
     },
     "execution_count": 71,
     "metadata": {},
     "output_type": "execute_result"
    }
   ],
   "source": [
    "df.head()"
   ]
  },
  {
   "cell_type": "code",
   "execution_count": 72,
   "id": "9b1d9b11",
   "metadata": {},
   "outputs": [
    {
     "data": {
      "text/plain": [
       "tip_documento\n",
       "DNI          25\n",
       "CE           13\n",
       "PASAPORTE    12\n",
       "Name: count, dtype: int64"
      ]
     },
     "execution_count": 72,
     "metadata": {},
     "output_type": "execute_result"
    }
   ],
   "source": [
    "df[\"tip_documento\"]=df[\"tip_documento\"].str.upper()\n",
    "df[\"tip_documento\"].value_counts()"
   ]
  },
  {
   "cell_type": "code",
   "execution_count": 73,
   "id": "0254c5b7",
   "metadata": {},
   "outputs": [
    {
     "data": {
      "text/plain": [
       "0          Ana Pérez\n",
       "1       Carlos López\n",
       "2     Sofía Martínez\n",
       "3       Daniel Gómez\n",
       "4    Elena Rodríguez\n",
       "Name: nom_empleado_completo, dtype: object"
      ]
     },
     "execution_count": 73,
     "metadata": {},
     "output_type": "execute_result"
    }
   ],
   "source": [
    "df[\"nom_empleado_completo\"]=(df[\"nom_empleado\"]+\" \"+df[\"ape_empleado\"])\n",
    "df[\"nom_empleado_completo\"].head()"
   ]
  },
  {
   "cell_type": "code",
   "execution_count": 74,
   "id": "b2d47c2e",
   "metadata": {},
   "outputs": [],
   "source": [
    "df[\"mnt_tope_comision\"]=df[\"mnt_tope_comision\"].fillna(0)"
   ]
  },
  {
   "cell_type": "code",
   "execution_count": 75,
   "id": "3e3d8718",
   "metadata": {},
   "outputs": [],
   "source": [
    "df[\"salario_anual\"]=round(df[\"mnt_salario\"]*12,2)"
   ]
  },
  {
   "cell_type": "code",
   "execution_count": 76,
   "id": "df6a9c2c",
   "metadata": {},
   "outputs": [],
   "source": [
    "df[\"nom_empleado\"] = df[\"nom_empleado\"].str.title()\n",
    "df[\"ape_empleado\"] = df[\"ape_empleado\"].str.title()"
   ]
  },
  {
   "cell_type": "code",
   "execution_count": 77,
   "id": "574cafec",
   "metadata": {},
   "outputs": [
    {
     "data": {
      "text/html": [
       "<div>\n",
       "<style scoped>\n",
       "    .dataframe tbody tr th:only-of-type {\n",
       "        vertical-align: middle;\n",
       "    }\n",
       "\n",
       "    .dataframe tbody tr th {\n",
       "        vertical-align: top;\n",
       "    }\n",
       "\n",
       "    .dataframe thead th {\n",
       "        text-align: right;\n",
       "    }\n",
       "</style>\n",
       "<table border=\"1\" class=\"dataframe\">\n",
       "  <thead>\n",
       "    <tr style=\"text-align: right;\">\n",
       "      <th></th>\n",
       "      <th>empleado_id</th>\n",
       "      <th>tip_documento</th>\n",
       "      <th>num_documento</th>\n",
       "      <th>nom_empleado</th>\n",
       "      <th>ape_empleado</th>\n",
       "      <th>cod_cargo</th>\n",
       "      <th>cod_departamento</th>\n",
       "      <th>mnt_salario</th>\n",
       "      <th>mnt_tope_comision</th>\n",
       "      <th>nom_empleado_completo</th>\n",
       "      <th>salario_anual</th>\n",
       "    </tr>\n",
       "  </thead>\n",
       "  <tbody>\n",
       "    <tr>\n",
       "      <th>0</th>\n",
       "      <td>1</td>\n",
       "      <td>DNI</td>\n",
       "      <td>78901234</td>\n",
       "      <td>Ana</td>\n",
       "      <td>Pérez</td>\n",
       "      <td>CAR004</td>\n",
       "      <td>DEP004</td>\n",
       "      <td>1800.00</td>\n",
       "      <td>0.0</td>\n",
       "      <td>Ana Pérez</td>\n",
       "      <td>21600.0</td>\n",
       "    </tr>\n",
       "    <tr>\n",
       "      <th>1</th>\n",
       "      <td>2</td>\n",
       "      <td>CE</td>\n",
       "      <td>AB123456</td>\n",
       "      <td>Carlos</td>\n",
       "      <td>López</td>\n",
       "      <td>CAR002</td>\n",
       "      <td>DEP002</td>\n",
       "      <td>2500.50</td>\n",
       "      <td>300.0</td>\n",
       "      <td>Carlos López</td>\n",
       "      <td>30006.0</td>\n",
       "    </tr>\n",
       "    <tr>\n",
       "      <th>2</th>\n",
       "      <td>3</td>\n",
       "      <td>PASAPORTE</td>\n",
       "      <td>XYZ789</td>\n",
       "      <td>Sofía</td>\n",
       "      <td>Martínez</td>\n",
       "      <td>CAR003</td>\n",
       "      <td>DEP003</td>\n",
       "      <td>2200.75</td>\n",
       "      <td>0.0</td>\n",
       "      <td>Sofía Martínez</td>\n",
       "      <td>26409.0</td>\n",
       "    </tr>\n",
       "    <tr>\n",
       "      <th>3</th>\n",
       "      <td>4</td>\n",
       "      <td>DNI</td>\n",
       "      <td>12345678</td>\n",
       "      <td>Daniel</td>\n",
       "      <td>Gómez</td>\n",
       "      <td>CAR001</td>\n",
       "      <td>DEP001</td>\n",
       "      <td>4000.00</td>\n",
       "      <td>500.0</td>\n",
       "      <td>Daniel Gómez</td>\n",
       "      <td>48000.0</td>\n",
       "    </tr>\n",
       "    <tr>\n",
       "      <th>4</th>\n",
       "      <td>5</td>\n",
       "      <td>CE</td>\n",
       "      <td>CD987654</td>\n",
       "      <td>Elena</td>\n",
       "      <td>Rodríguez</td>\n",
       "      <td>CAR005</td>\n",
       "      <td>DEP005</td>\n",
       "      <td>2000.20</td>\n",
       "      <td>0.0</td>\n",
       "      <td>Elena Rodríguez</td>\n",
       "      <td>24002.4</td>\n",
       "    </tr>\n",
       "  </tbody>\n",
       "</table>\n",
       "</div>"
      ],
      "text/plain": [
       "   empleado_id tip_documento num_documento nom_empleado ape_empleado  \\\n",
       "0            1           DNI      78901234          Ana        Pérez   \n",
       "1            2            CE      AB123456       Carlos        López   \n",
       "2            3     PASAPORTE        XYZ789        Sofía     Martínez   \n",
       "3            4           DNI      12345678       Daniel        Gómez   \n",
       "4            5            CE      CD987654        Elena    Rodríguez   \n",
       "\n",
       "  cod_cargo cod_departamento  mnt_salario  mnt_tope_comision  \\\n",
       "0    CAR004           DEP004      1800.00                0.0   \n",
       "1    CAR002           DEP002      2500.50              300.0   \n",
       "2    CAR003           DEP003      2200.75                0.0   \n",
       "3    CAR001           DEP001      4000.00              500.0   \n",
       "4    CAR005           DEP005      2000.20                0.0   \n",
       "\n",
       "  nom_empleado_completo  salario_anual  \n",
       "0             Ana Pérez        21600.0  \n",
       "1          Carlos López        30006.0  \n",
       "2        Sofía Martínez        26409.0  \n",
       "3          Daniel Gómez        48000.0  \n",
       "4       Elena Rodríguez        24002.4  "
      ]
     },
     "execution_count": 77,
     "metadata": {},
     "output_type": "execute_result"
    }
   ],
   "source": [
    "df.head()"
   ]
  },
  {
   "cell_type": "code",
   "execution_count": 78,
   "id": "249a239c",
   "metadata": {},
   "outputs": [],
   "source": [
    "# Obtener ruta absoluta del script actual\n",
    "script_dir = os.getcwd()\n",
    "\n",
    "# Subir un nivel y entrar a la carpeta output/\n",
    "output_dir = os.path.join(script_dir, \"..\", \"output\")\n",
    "os.makedirs(output_dir, exist_ok=True)  # Crear si no existe\n",
    "\n",
    "# Generar nombre con timestamp\n",
    "timestamp = datetime.now().strftime(\"%Y%m%d_%H%M%S\")\n",
    "output_file = os.path.join(output_dir, f\"empleados_transformados_{timestamp}.csv\")\n",
    "\n",
    "# Exportar\n",
    "df.to_csv(output_file, index=False, encoding=\"utf-8-sig\")"
   ]
  }
 ],
 "metadata": {
  "kernelspec": {
   "display_name": "venv",
   "language": "python",
   "name": "python3"
  },
  "language_info": {
   "codemirror_mode": {
    "name": "ipython",
    "version": 3
   },
   "file_extension": ".py",
   "mimetype": "text/x-python",
   "name": "python",
   "nbconvert_exporter": "python",
   "pygments_lexer": "ipython3",
   "version": "3.13.2"
  }
 },
 "nbformat": 4,
 "nbformat_minor": 5
}
